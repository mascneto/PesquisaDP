{
 "cells": [
  {
   "cell_type": "code",
   "execution_count": 1,
   "metadata": {},
   "outputs": [],
   "source": [
    "import numpy as np\n",
    "import scipy\n",
    "import os"
   ]
  },
  {
   "cell_type": "code",
   "execution_count": 2,
   "metadata": {},
   "outputs": [],
   "source": [
    "class SignalMetrics():\n",
    "\n",
    "    def __init__(self, pulses: np.ndarray):\n",
    "        \"\"\"\n",
    "        Inicializa a classe com um array de pulsos.\n",
    "\n",
    "        Args:\n",
    "            pulses(ndarray): Array NumPy contendo valores dos pulsos.\n",
    "        \"\"\"\n",
    "\n",
    "        if not isinstance(pulses, np.ndarray): # Validações de entrada\n",
    "            raise TypeError(\"Pulses devem ser um array NumPy.\")\n",
    "        if pulses.size == 0:\n",
    "            raise ValueError(\"Pulses não pode ser vazio.\")\n",
    "        \n",
    "        self.pulses = pulses\n",
    "        self._peak_value = None # prefixo _ indica que são variáveis internas (convenção Python)\n",
    "        self._rms = None\n",
    "        self._avg_amplitude = None\n",
    "\n",
    "    @property # permite acessar o método como se fosse um atributo (sem parênteses)\n",
    "    def peak_value(self) -> float:\n",
    "        \"\"\"Calcula e retorna o valor de pico do sinal\"\"\"\n",
    "        if self._peak_value is None:\n",
    "            self._peak_value = np.max(np.abs(self.pulses), axis=1)\n",
    "        return self._peak_value\n",
    "    \n",
    "    @property\n",
    "    def rms(self) -> float:\n",
    "        \"\"\"Calcula e retorna o valor RMS do sinal\"\"\"\n",
    "        if self._rms is None:\n",
    "            self._rms = np.sqrt(np.mean(self.pulses**2, axis=1))\n",
    "        return self._rms\n",
    "    \n",
    "    @property\n",
    "    def avg_amplitude(self) -> float:\n",
    "        \"\"\"Calcula e retorna a amplitude média de cada linha de pulsos\"\"\"\n",
    "        if self._avg_amplitude is None:\n",
    "            self._avg_amplitude = np.mean(np.abs(self.pulses), axis=1)\n",
    "        return self._avg_amplitude\n",
    "    \n",
    "    @property\n",
    "    def sqrt_amplitude(self) -> float:\n",
    "        \"\"\"Calcula e retorna a raiz quadrada da amplitude média da matriz\"\"\"\n",
    "        return np.sqrt(self.avg_amplitude)\n",
    "\n",
    "    def get_crest_factor(self) -> float:\n",
    "        \"\"\"Calcula e retorna o fator de crista da matriz\"\"\"\n",
    "        return self.peak_value / self.rms\n",
    "    \n",
    "    def get_clearance_factor(self) -> float:\n",
    "        \"\"\"Calcula e retorna o fator de liberação da matriz\"\"\"\n",
    "        return self.peak_value / self.sqrt_amplitude\n",
    "    \n",
    "    def impulse_factor(self) -> float:\n",
    "        \"\"\"Calcula e retorna o fator de impulso da matriz\"\"\"\n",
    "        return self.peak_value / self.avg_amplitude\n",
    "    \n",
    "    def shape_factor(self) -> float:\n",
    "        \"\"\"Calcula e retorna o fator de forma da matriz\"\"\"\n",
    "        return self.rms / self.avg_amplitude\n",
    "    \n",
    "    def skewness(self) -> float:\n",
    "        \"\"\"Calcula e retorna a assimetria da matriz\"\"\"\n",
    "        return scipy.stats.skew(self.pulses, axis=1)    \n",
    "\n",
    "    def kurtosis(self) -> float:\n",
    "        \"\"\"Calcula e retorna a curtose da matriz\"\"\"\n",
    "        return scipy.stats.kurtosis(self.pulses, axis=1)"
   ]
  },
  {
   "cell_type": "code",
   "execution_count": 22,
   "metadata": {},
   "outputs": [],
   "source": [
    "class Processor:\n",
    "    def __init__(self, folder: str):\n",
    "        self.folder = folder\n",
    "        self.files = self.list_mat_files()\n",
    "\n",
    "    def list_mat_files(self) -> list:\n",
    "        \"\"\"\n",
    "        Lista arquivos .mat no diretório\n",
    "        \"\"\"\n",
    "        files = [os.path.join(self.folder, f) for f in os.listdir(self.folder) if f.endswith('.mat')]\n",
    "        return files\n",
    "    \n",
    "    def load_mat_data(self, file: str) -> dict:\n",
    "        \"\"\"\n",
    "        Carrega dados de um arquivo .mat\n",
    "        \"\"\"\n",
    "        mat_data = scipy.io.loadmat(file) # carrega arquivo como dicionário\n",
    "        valid_keys = [key for key in mat_data.keys() if not key.startswith('_')] # pega chaves que não começam com '_'\n",
    "        \n",
    "        if not valid_keys:\n",
    "            raise Exception(f'Arquivo {file} não contém dados válidos')\n",
    "        return np.array(mat_data[valid_keys[0]]) # retorna o primeiro dado válido\n",
    "    \n",
    "    def process_single_file(self, file: str) -> np.ndarray:\n",
    "        file_path = os.path.join(self.folder, file)\n",
    "\n",
    "        if not os.path.exists(file_path):\n",
    "            raise Exception(f'Arquivo {file} não encontrado')\n",
    "        return self.load_mat_data(file_path)\n",
    "    \n",
    "    def process_files(self) -> list:\n",
    "        \"\"\"\n",
    "        Processa todos os arquivos .mat no diretório com o algoritmo proposto\n",
    "        \"\"\"\n",
    "        processed_files = []\n",
    "        for file in self.files:\n",
    "            data = self.load_mat_data(file)\n",
    "            data_pos, data_neg = self.half_cycle(data)\n",
    "            processed_files.append((data_pos, data_neg))   \n",
    "        return processed_files\n",
    "    \n",
    "    def normalization(self, data):\n",
    "        # Normalização dos dados\n",
    "        data[2:] = data[2:] / data[0]\n",
    "        return data\n",
    "    \n",
    "    def half_cycle(self, data):\n",
    "        data = self.normalization(data)\n",
    "        # Separação dos dados em semiciclo positivo e negativo\n",
    "        classes = np.where(data[1, :] <= 180, 'positivo', 'negativo') # insere classes para filtragem\n",
    "        data_w_classes = np.vstack((data, classes))\n",
    "        # Seleção correta de índices onde os rótulos são positivos\n",
    "        mask_positivo = data_w_classes[-1] == 'positivo'\n",
    "        mask_negativo = ~mask_positivo # tudo que não é positivo é negativo\n",
    "        data_pos = data_w_classes[:, mask_positivo]\n",
    "        data_neg = data_w_classes[:, mask_negativo]\n",
    "        # Deletar classes \n",
    "        data_pos = np.delete(data_pos, -1, axis=0).astype(np.float64) if data_pos.size > 0 else np.array([]) # evita erros de conversão se o array estiver vazio\n",
    "        data_neg = np.delete(data_neg, -1, axis=0).astype(np.float64) if data_neg.size > 0 else np.array([]) \n",
    "        return data_pos, data_neg\n",
    "\n"
   ]
  },
  {
   "cell_type": "code",
   "execution_count": null,
   "metadata": {},
   "outputs": [
    {
     "name": "stdout",
     "output_type": "stream",
     "text": [
      "[[ 1.26266406e-01  1.07125781e-01  9.69695313e-02 ...  1.19235156e-01\n",
      "   1.05172656e-01  1.18453906e-01]\n",
      " [ 2.42780885e+01  4.71812595e+01  7.35990319e+01 ...  2.82599990e+01\n",
      "   4.89916281e+01  7.63670467e+01]\n",
      " [ 1.40684932e-01  2.46507735e-01  2.59306383e-01 ...  1.44028488e-01\n",
      "   1.85119158e-01  2.06569011e-02]\n",
      " ...\n",
      " [ 1.40684932e-01  1.10353228e-01  2.80077480e-01 ...  1.57766421e-01\n",
      "   6.15180416e-02  1.18095113e-01]\n",
      " [ 1.52935448e-01 -8.78196545e-03  7.23665043e-02 ...  1.16552622e-01\n",
      "   9.68326463e-02  9.02556238e-02]\n",
      " [ 1.40684932e-01  4.22759746e-02  1.76221992e-01 ...  6.16008910e-02\n",
      "   2.55748368e-01  1.32014857e-01]]\n"
     ]
    }
   ],
   "source": [
    "folder_path = r\"C:\\Users\\jmlnn\\OneDrive\\Engenharia\\0. Pesquisa DP\\arquivos\"\n",
    "processor = Processor(folder_path)\n",
    "mat_files = processor.list_mat_files()\n",
    "\n",
    "processed_files = processor.process_files()\n",
    "print(processed_files[0][0]) # primeiro indice: arquivo, segundo indice: semiciclo (0 = positivo, 1 = negativo)\n"
   ]
  },
  {
   "cell_type": "code",
   "execution_count": null,
   "metadata": {},
   "outputs": [],
   "source": [
    "data_pos, data_neg = processed_files[0] # semiciclos positivo e negativo do primeiro arquivo"
   ]
  },
  {
   "cell_type": "code",
   "execution_count": 29,
   "metadata": {},
   "outputs": [],
   "source": [
    "# Separação dos dados de treino e teste\n",
    "from sklearn.model_selection import train_test_split\n",
    "X_train_pos, X_test_pos = train_test_split(data_pos, test_size=0.2, random_state=42)\n",
    "X_train_neg, X_test_neg = train_test_split(data_neg, test_size=0.2, random_state=42)"
   ]
  },
  {
   "cell_type": "code",
   "execution_count": 30,
   "metadata": {},
   "outputs": [],
   "source": [
    "metrics_sp = SignalMetrics(X_train_pos)\n",
    "\n",
    "X_pos_features = np.array([\n",
    "    metrics_sp.avg_amplitude,\n",
    "    metrics_sp.rms,\n",
    "    metrics_sp.peak_value,\n",
    "    metrics_sp.sqrt_amplitude,\n",
    "    metrics_sp.get_crest_factor(),\n",
    "    metrics_sp.get_clearance_factor(),\n",
    "    metrics_sp.impulse_factor(),\n",
    "    metrics_sp.shape_factor(),\n",
    "    metrics_sp.skewness(),\n",
    "    metrics_sp.kurtosis()\n",
    "])"
   ]
  },
  {
   "cell_type": "code",
   "execution_count": 31,
   "metadata": {},
   "outputs": [],
   "source": [
    "metrics_sp_test = SignalMetrics(X_test_pos)\n",
    "\n",
    "features_sp_test = np.array([\n",
    "    metrics_sp_test.avg_amplitude,\n",
    "    metrics_sp_test.rms,\n",
    "    metrics_sp_test.peak_value,\n",
    "    metrics_sp_test.sqrt_amplitude,\n",
    "    metrics_sp_test.get_crest_factor(),\n",
    "    metrics_sp_test.get_clearance_factor(),\n",
    "    metrics_sp_test.impulse_factor(),\n",
    "    metrics_sp_test.shape_factor(),\n",
    "    metrics_sp_test.skewness(),\n",
    "    metrics_sp_test.kurtosis()\n",
    "])"
   ]
  },
  {
   "cell_type": "code",
   "execution_count": 33,
   "metadata": {},
   "outputs": [],
   "source": [
    "metrics_sn = SignalMetrics(X_train_neg)\n",
    "\n",
    "features_sn_train = np.array([\n",
    "    metrics_sn.avg_amplitude,\n",
    "    metrics_sn.rms,\n",
    "    metrics_sn.peak_value,\n",
    "    metrics_sn.sqrt_amplitude,\n",
    "    metrics_sn.get_crest_factor(),\n",
    "    metrics_sn.get_clearance_factor(),\n",
    "    metrics_sn.impulse_factor(),\n",
    "    metrics_sn.shape_factor(),\n",
    "    metrics_sn.skewness(),\n",
    "    metrics_sn.kurtosis()\n",
    "])"
   ]
  },
  {
   "cell_type": "code",
   "execution_count": 34,
   "metadata": {},
   "outputs": [],
   "source": [
    "metrics_sn_test = SignalMetrics(X_test_neg)\n",
    "\n",
    "features_sn_test = np.array([\n",
    "    metrics_sn_test.avg_amplitude,\n",
    "    metrics_sn_test.rms,\n",
    "    metrics_sn_test.peak_value,\n",
    "    metrics_sn_test.sqrt_amplitude,\n",
    "    metrics_sn_test.get_crest_factor(),\n",
    "    metrics_sn_test.get_clearance_factor(),\n",
    "    metrics_sn_test.impulse_factor(),\n",
    "    metrics_sn_test.shape_factor(),\n",
    "    metrics_sn_test.skewness(),\n",
    "    metrics_sn_test.kurtosis()\n",
    "])"
   ]
  },
  {
   "cell_type": "code",
   "execution_count": 35,
   "metadata": {},
   "outputs": [
    {
     "name": "stdout",
     "output_type": "stream",
     "text": [
      "features_sp_train.shape: (322, 29)\n",
      "features_sp_test.shape: (81, 29)\n",
      "features_sn_train.shape: (322, 23)\n",
      "features_sn_train.shape: (81, 23)\n"
     ]
    }
   ],
   "source": [
    "print(f\"features_sp_train.shape: {X_train_pos.shape}\")\n",
    "print(f\"features_sp_test.shape: {X_test_pos.shape}\")\n",
    "print(f\"features_sn_train.shape: {X_train_neg.shape}\")\n",
    "print(f\"features_sn_train.shape: {X_test_neg.shape}\")\n"
   ]
  },
  {
   "cell_type": "code",
   "execution_count": null,
   "metadata": {},
   "outputs": [],
   "source": []
  }
 ],
 "metadata": {
  "kernelspec": {
   "display_name": "base",
   "language": "python",
   "name": "python3"
  },
  "language_info": {
   "codemirror_mode": {
    "name": "ipython",
    "version": 3
   },
   "file_extension": ".py",
   "mimetype": "text/x-python",
   "name": "python",
   "nbconvert_exporter": "python",
   "pygments_lexer": "ipython3",
   "version": "3.11.4"
  }
 },
 "nbformat": 4,
 "nbformat_minor": 2
}
