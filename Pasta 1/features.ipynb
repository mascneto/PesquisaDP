{
 "cells": [
  {
   "cell_type": "code",
   "execution_count": 2,
   "metadata": {},
   "outputs": [],
   "source": [
    "import numpy as np\n",
    "import pandas as pd\n",
    "import scipy"
   ]
  },
  {
   "cell_type": "code",
   "execution_count": 3,
   "metadata": {},
   "outputs": [
    {
     "name": "stdout",
     "output_type": "stream",
     "text": [
      "dict_keys(['__header__', '__version__', '__globals__', 'absoluto'])\n"
     ]
    }
   ],
   "source": [
    "dados = scipy.io.loadmat(r\"C:\\Users\\jmlnn\\Downloads\\barra_6kv_condi_1.mat\")\n",
    "print(dados.keys())"
   ]
  },
  {
   "cell_type": "code",
   "execution_count": 4,
   "metadata": {},
   "outputs": [
    {
     "data": {
      "text/plain": [
       "dict_values([b'MATLAB 5.0 MAT-file, Platform: PCWIN64, Created on: Fri Oct 25 09:54:30 2024', '1.0', [], array([[ 1.26266406e-01,  1.07125781e-01,  9.69695313e-02, ...,\n",
       "         1.34078906e-01,  1.22164844e-01,  1.38571094e-01],\n",
       "       [ 2.42780885e+01,  4.71812595e+01,  7.35990319e+01, ...,\n",
       "         2.06046990e+02,  2.27669605e+02,  2.49815282e+02],\n",
       "       [ 1.77637807e-02,  2.64073337e-02,  2.51448184e-02, ...,\n",
       "         1.96421184e-02,  7.16884847e-03,  1.33674614e-02],\n",
       "       ...,\n",
       "       [ 1.77637807e-02,  1.18216758e-02,  2.71589820e-02, ...,\n",
       "         1.23586275e-02,  8.76761038e-03,  2.09166100e-03],\n",
       "       [ 1.93106094e-02, -9.40774910e-04,  7.01734600e-03, ...,\n",
       "         3.61843832e-03, -8.24961128e-04,  6.32008617e-03],\n",
       "       [ 1.77637807e-02,  4.52884681e-03,  1.70881640e-02, ...,\n",
       "        -3.66505262e-03,  1.35638961e-02,  1.61864116e-02]])])"
      ]
     },
     "execution_count": 4,
     "metadata": {},
     "output_type": "execute_result"
    }
   ],
   "source": [
    "dados.values()"
   ]
  },
  {
   "cell_type": "code",
   "execution_count": 5,
   "metadata": {},
   "outputs": [],
   "source": [
    "df = pd.DataFrame(list(dados.values())[-1])\n",
    "#df"
   ]
  },
  {
   "cell_type": "code",
   "execution_count": 6,
   "metadata": {},
   "outputs": [],
   "source": [
    "# Criar a coluna de classe\n",
    "df.loc['classe'] = ['positivo' if valor <= 180 else 'negativo' for valor in df.iloc[1, :]]"
   ]
  },
  {
   "cell_type": "code",
   "execution_count": 7,
   "metadata": {},
   "outputs": [],
   "source": [
    "# Filtrar os elementos do semi-ciclo positivo\n",
    "dados_sp = df.loc[:, df.loc['classe'] == 'positivo'].drop('classe').to_numpy()[2:, :]\n",
    "dados_sp = dados_sp.astype(float)  # Garantir que todos os elementos sejam floats"
   ]
  },
  {
   "cell_type": "code",
   "execution_count": 8,
   "metadata": {},
   "outputs": [],
   "source": [
    "# Filtrar elementos do semi-ciclo negativo\n",
    "dados_sn = df.loc[:, df.loc['classe'] == 'negativo'].drop('classe').to_numpy()[2:, :]\n",
    "dados_sn = dados_sn.astype(float)  # Garantir que todos os elementos sejam floats"
   ]
  },
  {
   "cell_type": "code",
   "execution_count": 9,
   "metadata": {},
   "outputs": [],
   "source": [
    "matrix = np.array(list(dados.values())[-1])\n",
    "pulses = matrix[2:, :]"
   ]
  },
  {
   "cell_type": "code",
   "execution_count": 10,
   "metadata": {},
   "outputs": [],
   "source": [
    "class SignalMetrics():\n",
    "\n",
    "    def __init__(self, pulses: np.ndarray):\n",
    "        \"\"\"\n",
    "        Inicializa a classe com um array de pulsos.\n",
    "\n",
    "        Args:\n",
    "            pulses(ndarray): Array NumPy contendo valores dos pulsos.\n",
    "        \"\"\"\n",
    "\n",
    "        if not isinstance(pulses, np.ndarray): # Validações de entrada\n",
    "            raise TypeError(\"Pulses devem ser um array NumPy.\")\n",
    "        if pulses.size == 0:\n",
    "            raise ValueError(\"Pulses não pode ser vazio.\")\n",
    "        \n",
    "        self.pulses = pulses\n",
    "        self._peak_value = None # prefixo _ indica que são variáveis internas (convenção Python)\n",
    "        self._rms = None\n",
    "        self._avg_amplitude = None\n",
    "\n",
    "    @property # permite acessar o método como se fosse um atributo (sem parênteses)\n",
    "    def peak_value(self) -> float:\n",
    "        \"\"\"Calcula e retorna o valor de pico do sinal\"\"\"\n",
    "        if self._peak_value is None:\n",
    "            self._peak_value = np.max(np.abs(self.pulses), axis=1)\n",
    "        return self._peak_value\n",
    "    \n",
    "    @property\n",
    "    def rms(self) -> float:\n",
    "        \"\"\"Calcula e retorna o valor RMS do sinal\"\"\"\n",
    "        if self._rms is None:\n",
    "            self._rms = np.sqrt(np.mean(self.pulses**2, axis=1))\n",
    "        return self._rms\n",
    "    \n",
    "    @property\n",
    "    def avg_amplitude(self) -> float:\n",
    "        \"\"\"Calcula e retorna a amplitude média de cada linha de pulsos\"\"\"\n",
    "        if self._avg_amplitude is None:\n",
    "            self._avg_amplitude = np.mean(np.abs(self.pulses), axis=1)\n",
    "        return self._avg_amplitude\n",
    "    \n",
    "    @property\n",
    "    def sqrt_amplitude(self) -> float:\n",
    "        \"\"\"Calcula e retorna a raiz quadrada da amplitude média da matriz\"\"\"\n",
    "        return np.sqrt(self.avg_amplitude)\n",
    "\n",
    "    def get_crest_factor(self) -> float:\n",
    "        \"\"\"Calcula e retorna o fator de crista da matriz\"\"\"\n",
    "        return self.peak_value / self.rms\n",
    "    \n",
    "    def get_clearance_factor(self) -> float:\n",
    "        \"\"\"Calcula e retorna o fator de liberação da matriz\"\"\"\n",
    "        return self.peak_value / self.sqrt_amplitude\n",
    "    \n",
    "    def impulse_factor(self) -> float:\n",
    "        \"\"\"Calcula e retorna o fator de impulso da matriz\"\"\"\n",
    "        return self.peak_value / self.avg_amplitude\n",
    "    \n",
    "    def shape_factor(self) -> float:\n",
    "        \"\"\"Calcula e retorna o fator de forma da matriz\"\"\"\n",
    "        return self.rms / self.avg_amplitude\n",
    "    \n",
    "    def skewness(self) -> float:\n",
    "        \"\"\"Calcula e retorna a assimetria da matriz\"\"\"\n",
    "        return scipy.stats.skew(self.pulses, axis=1)    \n",
    "\n",
    "    def kurtosis(self) -> float:\n",
    "        \"\"\"Calcula e retorna a curtose da matriz\"\"\"\n",
    "        return scipy.stats.kurtosis(self.pulses, axis=1)"
   ]
  },
  {
   "cell_type": "code",
   "execution_count": 11,
   "metadata": {},
   "outputs": [],
   "source": [
    "# Separação dos dados de treino e teste\n",
    "from sklearn.model_selection import train_test_split\n",
    "dados_sp_train, dados_sp_test = train_test_split(dados_sp, test_size=0.2, random_state=42)\n",
    "dados_sn_train, dados_sn_test = train_test_split(dados_sn, test_size=0.2, random_state=42)"
   ]
  },
  {
   "cell_type": "code",
   "execution_count": 12,
   "metadata": {},
   "outputs": [],
   "source": [
    "from sklearn.preprocessing import StandardScaler\n",
    "scaler = StandardScaler()\n",
    "dados_sp_train_scaled = scaler.fit_transform(dados_sp_train)\n",
    "dados_sp_test_scaled = scaler.transform(dados_sp_test)\n",
    "dados_sn_train_scaled = scaler.fit_transform(dados_sn_train)\n",
    "dados_sn_test_scaled = scaler.transform(dados_sn_test)"
   ]
  },
  {
   "cell_type": "code",
   "execution_count": 13,
   "metadata": {},
   "outputs": [
    {
     "data": {
      "text/plain": [
       "'\\nessa transposição da matriz é necessária para que as features sejam as colunas\\ne as linhas sejam os exemplos\\n'"
      ]
     },
     "execution_count": 13,
     "metadata": {},
     "output_type": "execute_result"
    }
   ],
   "source": [
    "metrics_sp = SignalMetrics(dados_sp_train_scaled)\n",
    "\n",
    "features_sp_train = np.array([\n",
    "    metrics_sp.avg_amplitude,\n",
    "    metrics_sp.rms,\n",
    "    metrics_sp.peak_value,\n",
    "    metrics_sp.sqrt_amplitude,\n",
    "    metrics_sp.get_crest_factor(),\n",
    "    metrics_sp.get_clearance_factor(),\n",
    "    metrics_sp.impulse_factor(),\n",
    "    metrics_sp.shape_factor(),\n",
    "    metrics_sp.skewness(),\n",
    "    metrics_sp.kurtosis()\n",
    "]).T\n",
    "\n",
    "\"\"\"\n",
    "essa transposição da matriz é necessária para que as features sejam as colunas\n",
    "e as linhas sejam os exemplos\n",
    "\"\"\""
   ]
  },
  {
   "cell_type": "code",
   "execution_count": 14,
   "metadata": {},
   "outputs": [],
   "source": [
    "metrics_sp_test = SignalMetrics(dados_sp_test_scaled)\n",
    "\n",
    "features_sp_test = np.array([\n",
    "    metrics_sp_test.avg_amplitude,\n",
    "    metrics_sp_test.rms,\n",
    "    metrics_sp_test.peak_value,\n",
    "    metrics_sp_test.sqrt_amplitude,\n",
    "    metrics_sp_test.get_crest_factor(),\n",
    "    metrics_sp_test.get_clearance_factor(),\n",
    "    metrics_sp_test.impulse_factor(),\n",
    "    metrics_sp_test.shape_factor(),\n",
    "    metrics_sp_test.skewness(),\n",
    "    metrics_sp_test.kurtosis()\n",
    "]).T"
   ]
  },
  {
   "cell_type": "code",
   "execution_count": 15,
   "metadata": {},
   "outputs": [],
   "source": [
    "metrics_sn = SignalMetrics(dados_sn_train_scaled)\n",
    "\n",
    "features_sn_train = np.array([\n",
    "    metrics_sn.avg_amplitude,\n",
    "    metrics_sn.rms,\n",
    "    metrics_sn.peak_value,\n",
    "    metrics_sn.sqrt_amplitude,\n",
    "    metrics_sn.get_crest_factor(),\n",
    "    metrics_sn.get_clearance_factor(),\n",
    "    metrics_sn.impulse_factor(),\n",
    "    metrics_sn.shape_factor(),\n",
    "    metrics_sn.skewness(),\n",
    "    metrics_sn.kurtosis()\n",
    "]).T"
   ]
  },
  {
   "cell_type": "code",
   "execution_count": 16,
   "metadata": {},
   "outputs": [],
   "source": [
    "metrics_sn_test = SignalMetrics(dados_sn_test_scaled)\n",
    "\n",
    "features_sn_test = np.array([\n",
    "    metrics_sn_test.avg_amplitude,\n",
    "    metrics_sn_test.rms,\n",
    "    metrics_sn_test.peak_value,\n",
    "    metrics_sn_test.sqrt_amplitude,\n",
    "    metrics_sn_test.get_crest_factor(),\n",
    "    metrics_sn_test.get_clearance_factor(),\n",
    "    metrics_sn_test.impulse_factor(),\n",
    "    metrics_sn_test.shape_factor(),\n",
    "    metrics_sn_test.skewness(),\n",
    "    metrics_sn_test.kurtosis()\n",
    "]).T"
   ]
  },
  {
   "cell_type": "code",
   "execution_count": 17,
   "metadata": {},
   "outputs": [
    {
     "name": "stdout",
     "output_type": "stream",
     "text": [
      "features_sp_train.shape: (320, 10)\n",
      "features_sp_test.shape: (81, 10)\n",
      "features_sn_train.shape: (320, 10)\n",
      "features_sn_train.shape: (81, 10)\n"
     ]
    }
   ],
   "source": [
    "print(f\"features_sp_train.shape: {features_sp_train.shape}\")\n",
    "print(f\"features_sp_test.shape: {features_sp_test.shape}\")\n",
    "print(f\"features_sn_train.shape: {features_sn_train.shape}\")\n",
    "print(f\"features_sn_train.shape: {features_sn_test.shape}\")\n"
   ]
  },
  {
   "cell_type": "code",
   "execution_count": 22,
   "metadata": {},
   "outputs": [
    {
     "name": "stdout",
     "output_type": "stream",
     "text": [
      "Dimensão das features de treino: (640, 10)\n",
      "Dimensão das features de teste: (162, 10)\n",
      "Dimensão dos rótulos de treino: (640,)\n",
      "Dimensão dos rótulos de teste: (162,)\n"
     ]
    }
   ],
   "source": [
    "# Combine training/test features from both positive and negative semi-cycles \n",
    "features_train = np.concatenate((features_sp_train, features_sn_train), axis=0) \n",
    "features_test = np.concatenate((features_sp_test, features_sn_test), axis=0)\n",
    "\n",
    "print(f\"Dimensão das features de treino: {features_train.shape}\")\n",
    "print(f\"Dimensão das features de teste: {features_test.shape}\")\n",
    "\n",
    "# Create target labels\n",
    "labels_train = np.array(['positivo'] * features_sp_train.shape[0] + ['negativo'] * features_sn_train.shape[0])\n",
    "labels_test = np.array(['positivo'] * features_sp_test.shape[0] + ['negativo'] * features_sn_test.shape[0])\n",
    "\n",
    "print(f\"Dimensão dos rótulos de treino: {labels_train.shape}\")\n",
    "print(f\"Dimensão dos rótulos de teste: {labels_test.shape}\")\n"
   ]
  },
  {
   "cell_type": "code",
   "execution_count": 25,
   "metadata": {},
   "outputs": [],
   "source": [
    "from sklearn.feature_selection import RFE, mutual_info_classif, SelectKBest\n",
    "from sklearn.linear_model import LogisticRegression\n",
    "\n",
    "# Initialize the model and RFE\n",
    "model = LogisticRegression(multi_class='multinomial', solver='lbfgs', max_iter=1000)\n",
    "rfe = RFE(model, n_features_to_select=5)\n",
    "features_train_rfe = rfe.fit_transform(features_train, labels_train)\n",
    "features_test_rfe = rfe.transform(features_test)\n",
    "\n",
    "# Mutual Information block\n",
    "selector = SelectKBest(mutual_info_classif, k=5)\n",
    "features_train_mi = selector.fit_transform(features_train, labels_train)\n",
    "features_test_mi = selector.transform(features_test)\n",
    "\n",
    "# COmbine the features selected by RFE and Mutual Information\n",
    "selected_features_rfe = rfe.get_support(indices=True)\n",
    "selected_features_mi = selector.get_support(indices=True)\n",
    "combined_features = np.union1d(selected_features_rfe, selected_features_mi)\n",
    "\n",
    "# Filter the combined features\n",
    "features_train_combined = features_train[:, combined_features]\n",
    "features_test_combined = features_test[:, combined_features]\n",
    "\n",
    "# Correlation matrix between selected features\n",
    "correlation_matrix = np.corrcoef(features_train_combined.T)\n",
    "\n",
    "# Select least correlated features\n",
    "upper_triangle = np.triu(correlation_matrix, k=1)\n",
    "to_drop = [i for i in range(upper_triangle.shape[1]) if any(upper_triangle[:, i] > 0.9)]\n",
    "selected_features_final = [feature for feature in combined_features if feature not in to_drop]\n",
    "\n",
    "# Filter the final features\n",
    "features_train_final = features_train[:, selected_features_final]\n",
    "features_test_final = features_test[:, selected_features_final]"
   ]
  },
  {
   "cell_type": "code",
   "execution_count": 26,
   "metadata": {},
   "outputs": [
    {
     "name": "stdout",
     "output_type": "stream",
     "text": [
      "Shape of features_train_final.T: (4, 640)\n",
      "Shape of labels_train: (640,)\n"
     ]
    }
   ],
   "source": [
    "print(f\"Shape of features_train_final.T: {features_train_final.T.shape}\")\n",
    "print(f\"Shape of labels_train: {labels_train.shape}\")"
   ]
  },
  {
   "cell_type": "code",
   "execution_count": 30,
   "metadata": {},
   "outputs": [],
   "source": [
    "from sklearn.metrics import accuracy_score, classification_report\n",
    "\n",
    "model.fit(features_train_final, labels_train)\n",
    "predictions = model.predict(features_test_final)\n",
    "\n",
    "accuracy = accuracy_score(['positivo'] * features_sp_test.shape[0] + ['negativo'] * features_sn_test.shape[0], predictions)\n",
    "report = classification_report(['positivo'] * features_sp_test.shape[0] + ['negativo'] * features_sn_test.shape[0], predictions)\n"
   ]
  },
  {
   "cell_type": "code",
   "execution_count": 33,
   "metadata": {},
   "outputs": [
    {
     "name": "stdout",
     "output_type": "stream",
     "text": [
      "              precision    recall  f1-score   support\n",
      "\n",
      "    negativo       0.52      0.84      0.64        81\n",
      "    positivo       0.57      0.21      0.31        81\n",
      "\n",
      "    accuracy                           0.52       162\n",
      "   macro avg       0.54      0.52      0.47       162\n",
      "weighted avg       0.54      0.52      0.47       162\n",
      "\n"
     ]
    }
   ],
   "source": [
    "print(report)"
   ]
  },
  {
   "cell_type": "code",
   "execution_count": null,
   "metadata": {},
   "outputs": [],
   "source": []
  }
 ],
 "metadata": {
  "kernelspec": {
   "display_name": "base",
   "language": "python",
   "name": "python3"
  },
  "language_info": {
   "codemirror_mode": {
    "name": "ipython",
    "version": 3
   },
   "file_extension": ".py",
   "mimetype": "text/x-python",
   "name": "python",
   "nbconvert_exporter": "python",
   "pygments_lexer": "ipython3",
   "version": "3.11.4"
  }
 },
 "nbformat": 4,
 "nbformat_minor": 2
}
